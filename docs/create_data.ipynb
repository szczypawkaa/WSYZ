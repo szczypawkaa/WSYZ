{
 "cells": [
  {
   "cell_type": "code",
   "execution_count": 47,
   "id": "c5dbb73b",
   "metadata": {},
   "outputs": [],
   "source": [
    "import random\n",
    "\n",
    "def get_sales(store):\n",
    "    if store <= 4:\n",
    "        return random.randint(200, 1000) / 1000\n",
    "    else:\n",
    "        return random.randint(500, 1500) / 1000\n",
    "\n",
    "\n",
    "def create_data(output_file):\n",
    "    weeks = range(1, 53)\n",
    "    stores = range(1, 11)\n",
    "    products = [\"ZIEMNIAKI\", \"BURAKI\", \"KAPUSTA\", \"MARCHEW\"]\n",
    "\n",
    "    lines = [\n",
    "        f\"{week} {store} {product} {get_sales(store)}\"\n",
    "        for week in weeks\n",
    "        for store in stores\n",
    "        for product in products\n",
    "    ]\n",
    "\n",
    "    with open(output_file, 'w') as f:\n",
    "        f.write(\"param weekly_sales :=\\n\")\n",
    "        f.write(\"\\n\".join(lines))\n",
    "        f.write(\"\\n;\\n\")\n"
   ]
  },
  {
   "cell_type": "code",
   "execution_count": 48,
   "id": "0ce3e711",
   "metadata": {},
   "outputs": [],
   "source": [
    "\n",
    "create_data(\"weekly_sales2.dat\")"
   ]
  },
  {
   "cell_type": "code",
   "execution_count": 49,
   "id": "faafb833",
   "metadata": {},
   "outputs": [
    {
     "name": "stderr",
     "output_type": "stream",
     "text": [
      "/tmp/ipykernel_4239/3307047910.py:4: FutureWarning: The 'delim_whitespace' keyword in pd.read_csv is deprecated and will be removed in a future version. Use ``sep='\\s+'`` instead\n",
      "  df = pd.read_csv(\"weekly_sales2.dat\",\n"
     ]
    }
   ],
   "source": [
    "import pandas as pd\n",
    "\n",
    "# Pomijamy pierwszą linię i ostatnią ze średnikiem\n",
    "df = pd.read_csv(\"weekly_sales2.dat\",\n",
    "                 skiprows=1,\n",
    "                 skipfooter=1,\n",
    "                 engine=\"python\",\n",
    "                 delim_whitespace=True,\n",
    "                 names=[\"week\", \"store\", \"product\", \"sales\"])"
   ]
  },
  {
   "cell_type": "code",
   "execution_count": 50,
   "id": "371701e7",
   "metadata": {},
   "outputs": [],
   "source": [
    "df_avg = df.groupby([\"store\"], as_index=False)[\"sales\"].sum()\n",
    "df_avg[\"sales\"] = ((df_avg[\"sales\"] / 52) * 2).round(3)\n",
    "# df_avg"
   ]
  },
  {
   "cell_type": "code",
   "execution_count": 51,
   "id": "229b338a",
   "metadata": {},
   "outputs": [],
   "source": [
    "def save_stockroom_capacity(df, filename):\n",
    "    with open(filename, \"w\", encoding=\"utf-8\") as f:\n",
    "        f.write(\"param stockroom_capacity :=\\n\")\n",
    "        for _, row in df.iterrows():\n",
    "            f.write(f\"{int(row['store'])} {row['sales']}\\n\")\n",
    "        f.write(\";\\n\")\n",
    "\n",
    "save_stockroom_capacity(df_avg, \"stockroom_capacity2.dat\")"
   ]
  },
  {
   "cell_type": "code",
   "execution_count": 52,
   "id": "f4c4e637",
   "metadata": {},
   "outputs": [],
   "source": [
    "producers = {\n",
    "    \"SKIERNIEWICE\": (51.966488, 20.149736),\n",
    "    \"KSIĄŻENICE\": (52.070476, 20.684361),\n",
    "    \"GÓRA_KALWARIA\": (51.980816, 21.216427),\n",
    "    \"OTWOCK\": (52.105678, 21.261457),\n",
    "    \"WOŁOMIN\": (52.340453, 21.243221),\n",
    "    \"LEGIONOWO\": (52.404672, 20.952807)\n",
    "}"
   ]
  },
  {
   "cell_type": "code",
   "execution_count": 53,
   "id": "9f9bee82",
   "metadata": {},
   "outputs": [],
   "source": [
    "stores = {\n",
    "    \"1\": (52.218141, 21.011481),   # Nowowiejska 15/19, 00-665 Warszawa\n",
    "    \"2\": (52.383261, 20.926887),   # Akademijna, 05-110 Jabłonna\n",
    "    \"3\": (52.275729, 21.082742),   #Wierna 23, 03-890 Warszawa\n",
    "    \"4\": (52.290395, 20.929127),   # Nocznickiego, 00-001 Warszawa\n",
    "    \"5\": (52.278534, 20.942370),   # Stanisława Przybyszewskiego 32, 01-824 Warszawa\n",
    "    \"6\": (52.137360, 20.922216),   # aleja Hrabska 4a, 05-090 Falenty\n",
    "    \"7\": (52.288574, 21.108812),   # Zaciszna 20-24, 05-091 Ząbki\n",
    "    \"8\": (52.173798, 21.020688),   # Puławska 233-231, Warszawa\n",
    "    \"9\": (52.128329, 21.079121),   # Trakt Leśny, 02-797 Warszawa\n",
    "    \"10\": (52.317838, 20.961168),  # Myśliborska 85-23, 03-185 Warszawa\n",
    "}\n"
   ]
  },
  {
   "cell_type": "code",
   "execution_count": 54,
   "id": "d47f843b",
   "metadata": {},
   "outputs": [],
   "source": [
    "warehouses = {\n",
    "    \"PRUSZKÓW\": (52.170189, 20.817537),\n",
    "    \"PIASECZNO\": (52.077273, 21.026131),\n",
    "    \"ZIELONKA\": (52.304954, 21.159194),\n",
    "}"
   ]
  },
  {
   "cell_type": "code",
   "execution_count": 55,
   "id": "05a09dfb",
   "metadata": {},
   "outputs": [],
   "source": [
    "from math import radians, sin, cos, sqrt, atan2\n",
    "\n",
    "# Funkcja Haversine – oblicza odległość w kilometrach\n",
    "def haversine(lat1, lon1, lat2, lon2):\n",
    "    R = 6371  # promień Ziemi w km\n",
    "    phi1, phi2 = radians(lat1), radians(lat2)\n",
    "    dphi = radians(lat2 - lat1)\n",
    "    dlambda = radians(lon2 - lon1)\n",
    "\n",
    "    a = sin(dphi/2)**2 + cos(phi1) * cos(phi2) * sin(dlambda/2)**2\n",
    "    c = 2 * atan2(sqrt(a), sqrt(1 - a))\n",
    "    return round(R * c, 2)"
   ]
  },
  {
   "cell_type": "code",
   "execution_count": 56,
   "id": "88b50222",
   "metadata": {},
   "outputs": [],
   "source": [
    "# Obliczanie odległości\n",
    "distance_prod_wh = []\n",
    "for prod, (plat, plon) in producers.items():\n",
    "    for wh, (wlat, wlon) in warehouses.items():\n",
    "        d = haversine(plat, plon, wlat, wlon)\n",
    "        distance_prod_wh.append((prod, wh, d))\n",
    "\n",
    "distance_wh_store = []\n",
    "for wh, (wlat, wlon) in warehouses.items():\n",
    "    for s, (slat, slon) in stores.items():\n",
    "        d = haversine(wlat, wlon, slat, slon)\n",
    "        distance_wh_store.append((wh, s, d))\n"
   ]
  },
  {
   "cell_type": "code",
   "execution_count": 57,
   "id": "e254eec4",
   "metadata": {},
   "outputs": [],
   "source": [
    "def save_distance_dat(data, name):\n",
    "    with open(name, \"w\", encoding=\"utf-8\") as f:\n",
    "        f.write(f\"param {name.split('.')[0]} :=\\n\")\n",
    "        for row in data:\n",
    "            f.write(\"  \" + \" \".join(map(str, row)) + \"\\n\")\n",
    "        f.write(\";\\n\")\n",
    "\n",
    "save_distance_dat(distance_prod_wh, \"distance_prod_wh.dat\")\n",
    "save_distance_dat(distance_wh_store, \"distance_wh_store.dat\")"
   ]
  }
 ],
 "metadata": {
  "kernelspec": {
   "display_name": "Python 3",
   "language": "python",
   "name": "python3"
  },
  "language_info": {
   "codemirror_mode": {
    "name": "ipython",
    "version": 3
   },
   "file_extension": ".py",
   "mimetype": "text/x-python",
   "name": "python",
   "nbconvert_exporter": "python",
   "pygments_lexer": "ipython3",
   "version": "3.10.12"
  }
 },
 "nbformat": 4,
 "nbformat_minor": 5
}
